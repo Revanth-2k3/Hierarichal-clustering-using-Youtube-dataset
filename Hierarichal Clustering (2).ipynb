{
 "cells": [
  {
   "cell_type": "code",
   "execution_count": 1,
   "id": "58aacd56-7a60-4957-9991-34c38fcc3827",
   "metadata": {},
   "outputs": [],
   "source": [
    "import numpy as np \n",
    "import pandas as pd \n",
    "import matplotlib.pyplot as plt \n",
    "import seaborn as sns \n",
    "%matplotlib inline"
   ]
  },
  {
   "cell_type": "code",
   "execution_count": 9,
   "id": "c73cf52e-45eb-4289-8005-1c96120f141e",
   "metadata": {},
   "outputs": [],
   "source": [
    "df = pd.read_csv(r\"C:\\Users\\revan\\Downloads\\YOUTUBE CHANNELS DATASET.csv\")"
   ]
  },
  {
   "cell_type": "code",
   "execution_count": 11,
   "id": "e34d0f9d-b402-442f-a372-b8432d970f5a",
   "metadata": {},
   "outputs": [
    {
     "data": {
      "text/html": [
       "<div>\n",
       "<style scoped>\n",
       "    .dataframe tbody tr th:only-of-type {\n",
       "        vertical-align: middle;\n",
       "    }\n",
       "\n",
       "    .dataframe tbody tr th {\n",
       "        vertical-align: top;\n",
       "    }\n",
       "\n",
       "    .dataframe thead th {\n",
       "        text-align: right;\n",
       "    }\n",
       "</style>\n",
       "<table border=\"1\" class=\"dataframe\">\n",
       "  <thead>\n",
       "    <tr style=\"text-align: right;\">\n",
       "      <th></th>\n",
       "      <th>Ranking</th>\n",
       "      <th>Username</th>\n",
       "      <th>Subscribers</th>\n",
       "      <th>Uploads</th>\n",
       "      <th>Views</th>\n",
       "      <th>Country</th>\n",
       "    </tr>\n",
       "  </thead>\n",
       "  <tbody>\n",
       "    <tr>\n",
       "      <th>0</th>\n",
       "      <td>1.0</td>\n",
       "      <td>MrBeast</td>\n",
       "      <td>336M</td>\n",
       "      <td>838</td>\n",
       "      <td>66,853,633,536</td>\n",
       "      <td>US</td>\n",
       "    </tr>\n",
       "    <tr>\n",
       "      <th>1</th>\n",
       "      <td>2.0</td>\n",
       "      <td>T-Series</td>\n",
       "      <td>281M</td>\n",
       "      <td>22,313</td>\n",
       "      <td>277,242,795,553</td>\n",
       "      <td>IN</td>\n",
       "    </tr>\n",
       "    <tr>\n",
       "      <th>2</th>\n",
       "      <td>3.0</td>\n",
       "      <td>Cocomelon-Nursery Rhymes</td>\n",
       "      <td>186M</td>\n",
       "      <td>1370</td>\n",
       "      <td>194,361,752,276</td>\n",
       "      <td>US</td>\n",
       "    </tr>\n",
       "    <tr>\n",
       "      <th>3</th>\n",
       "      <td>4.0</td>\n",
       "      <td>Youtube Movies</td>\n",
       "      <td>185M</td>\n",
       "      <td>0</td>\n",
       "      <td>0</td>\n",
       "      <td>NaN</td>\n",
       "    </tr>\n",
       "    <tr>\n",
       "      <th>4</th>\n",
       "      <td>5.0</td>\n",
       "      <td>Set India</td>\n",
       "      <td>180M</td>\n",
       "      <td>148,727</td>\n",
       "      <td>172,709,029,653</td>\n",
       "      <td>IN</td>\n",
       "    </tr>\n",
       "    <tr>\n",
       "      <th>5</th>\n",
       "      <td>6.0</td>\n",
       "      <td>Vlad &amp; Niki</td>\n",
       "      <td>129M</td>\n",
       "      <td>796</td>\n",
       "      <td>99,291,499,729</td>\n",
       "      <td>US</td>\n",
       "    </tr>\n",
       "    <tr>\n",
       "      <th>6</th>\n",
       "      <td>7.0</td>\n",
       "      <td>Kids Diana Show</td>\n",
       "      <td>128M</td>\n",
       "      <td>1,282</td>\n",
       "      <td>108,987,929,584</td>\n",
       "      <td>US</td>\n",
       "    </tr>\n",
       "    <tr>\n",
       "      <th>7</th>\n",
       "      <td>8.0</td>\n",
       "      <td>Like Nastya</td>\n",
       "      <td>124M</td>\n",
       "      <td>918</td>\n",
       "      <td>108,128,507,997</td>\n",
       "      <td>US</td>\n",
       "    </tr>\n",
       "    <tr>\n",
       "      <th>8</th>\n",
       "      <td>9.0</td>\n",
       "      <td>Music</td>\n",
       "      <td>121M</td>\n",
       "      <td>0</td>\n",
       "      <td>0</td>\n",
       "      <td>NaN</td>\n",
       "    </tr>\n",
       "    <tr>\n",
       "      <th>9</th>\n",
       "      <td>10.0</td>\n",
       "      <td>Zee Music Company</td>\n",
       "      <td>112M</td>\n",
       "      <td>12,787</td>\n",
       "      <td>72,091,345,721</td>\n",
       "      <td>IN</td>\n",
       "    </tr>\n",
       "  </tbody>\n",
       "</table>\n",
       "</div>"
      ],
      "text/plain": [
       "   Ranking                  Username Subscribers  Uploads            Views  \\\n",
       "0      1.0                   MrBeast        336M      838   66,853,633,536   \n",
       "1      2.0                  T-Series        281M   22,313  277,242,795,553   \n",
       "2      3.0  Cocomelon-Nursery Rhymes        186M     1370  194,361,752,276   \n",
       "3      4.0            Youtube Movies        185M        0                0   \n",
       "4      5.0                 Set India        180M  148,727  172,709,029,653   \n",
       "5      6.0               Vlad & Niki        129M      796   99,291,499,729   \n",
       "6      7.0           Kids Diana Show        128M    1,282  108,987,929,584   \n",
       "7      8.0               Like Nastya        124M      918  108,128,507,997   \n",
       "8      9.0                     Music        121M        0                0   \n",
       "9     10.0         Zee Music Company        112M   12,787   72,091,345,721   \n",
       "\n",
       "  Country  \n",
       "0      US  \n",
       "1      IN  \n",
       "2      US  \n",
       "3     NaN  \n",
       "4      IN  \n",
       "5      US  \n",
       "6      US  \n",
       "7      US  \n",
       "8     NaN  \n",
       "9      IN  "
      ]
     },
     "execution_count": 11,
     "metadata": {},
     "output_type": "execute_result"
    }
   ],
   "source": [
    "df.head(10)"
   ]
  },
  {
   "cell_type": "code",
   "execution_count": 15,
   "id": "234061ac-06a1-41ab-8991-8f54e58de229",
   "metadata": {},
   "outputs": [
    {
     "data": {
      "text/html": [
       "<div>\n",
       "<style scoped>\n",
       "    .dataframe tbody tr th:only-of-type {\n",
       "        vertical-align: middle;\n",
       "    }\n",
       "\n",
       "    .dataframe tbody tr th {\n",
       "        vertical-align: top;\n",
       "    }\n",
       "\n",
       "    .dataframe thead th {\n",
       "        text-align: right;\n",
       "    }\n",
       "</style>\n",
       "<table border=\"1\" class=\"dataframe\">\n",
       "  <thead>\n",
       "    <tr style=\"text-align: right;\">\n",
       "      <th></th>\n",
       "      <th>Ranking</th>\n",
       "      <th>Username</th>\n",
       "      <th>Subscribers</th>\n",
       "      <th>Uploads</th>\n",
       "      <th>Views</th>\n",
       "      <th>Country</th>\n",
       "    </tr>\n",
       "  </thead>\n",
       "  <tbody>\n",
       "    <tr>\n",
       "      <th>96</th>\n",
       "      <td>97.0</td>\n",
       "      <td>Voce Sabia</td>\n",
       "      <td>46M</td>\n",
       "      <td>1,714</td>\n",
       "      <td>8,180,068,059</td>\n",
       "      <td>BR</td>\n",
       "    </tr>\n",
       "    <tr>\n",
       "      <th>97</th>\n",
       "      <td>98.0</td>\n",
       "      <td>Katy Perry</td>\n",
       "      <td>45.6M</td>\n",
       "      <td>170</td>\n",
       "      <td>27,616,850,074</td>\n",
       "      <td>US</td>\n",
       "    </tr>\n",
       "    <tr>\n",
       "      <th>98</th>\n",
       "      <td>99.0</td>\n",
       "      <td>Speed Records</td>\n",
       "      <td>45.5M</td>\n",
       "      <td>11,880</td>\n",
       "      <td>30,587,436,800</td>\n",
       "      <td>IN</td>\n",
       "    </tr>\n",
       "    <tr>\n",
       "      <th>99</th>\n",
       "      <td>100.0</td>\n",
       "      <td>Zhong</td>\n",
       "      <td>45.5M</td>\n",
       "      <td>1,861</td>\n",
       "      <td>17,998,163,730</td>\n",
       "      <td>US</td>\n",
       "    </tr>\n",
       "    <tr>\n",
       "      <th>100</th>\n",
       "      <td>NaN</td>\n",
       "      <td>NaN</td>\n",
       "      <td>NaN</td>\n",
       "      <td>NaN</td>\n",
       "      <td>NaN</td>\n",
       "      <td>NaN</td>\n",
       "    </tr>\n",
       "  </tbody>\n",
       "</table>\n",
       "</div>"
      ],
      "text/plain": [
       "     Ranking       Username Subscribers Uploads           Views Country\n",
       "96      97.0     Voce Sabia         46M   1,714   8,180,068,059      BR\n",
       "97      98.0     Katy Perry       45.6M     170  27,616,850,074      US\n",
       "98      99.0  Speed Records       45.5M  11,880  30,587,436,800      IN\n",
       "99     100.0          Zhong       45.5M   1,861  17,998,163,730      US\n",
       "100      NaN            NaN         NaN     NaN             NaN     NaN"
      ]
     },
     "execution_count": 15,
     "metadata": {},
     "output_type": "execute_result"
    }
   ],
   "source": [
    "df.tail()"
   ]
  },
  {
   "cell_type": "code",
   "execution_count": 17,
   "id": "1d0f7449-85b3-4758-99e0-500f25f4d480",
   "metadata": {},
   "outputs": [
    {
     "data": {
      "text/plain": [
       "(101, 6)"
      ]
     },
     "execution_count": 17,
     "metadata": {},
     "output_type": "execute_result"
    }
   ],
   "source": [
    "df.shape"
   ]
  },
  {
   "cell_type": "code",
   "execution_count": 158,
   "id": "f7d79862-81e4-4f45-bd84-86173ae42ded",
   "metadata": {},
   "outputs": [
    {
     "name": "stdout",
     "output_type": "stream",
     "text": [
      "<class 'pandas.core.frame.DataFrame'>\n",
      "RangeIndex: 101 entries, 0 to 100\n",
      "Data columns (total 6 columns):\n",
      " #   Column       Non-Null Count  Dtype  \n",
      "---  ------       --------------  -----  \n",
      " 0   Ranking      100 non-null    float64\n",
      " 1   Username     100 non-null    object \n",
      " 2   Subscribers  100 non-null    object \n",
      " 3   Uploads      100 non-null    object \n",
      " 4   Views        100 non-null    object \n",
      " 5   Country      94 non-null     object \n",
      "dtypes: float64(1), object(5)\n",
      "memory usage: 4.9+ KB\n"
     ]
    }
   ],
   "source": [
    "df.info()"
   ]
  },
  {
   "cell_type": "code",
   "execution_count": 160,
   "id": "84b61f78-401f-4a11-a2b7-8a9a09ebcfbb",
   "metadata": {},
   "outputs": [],
   "source": [
    "df['Subscribers'] = df['Subscribers'].str.replace('M', '').astype(float)\n",
    "df['Views'] = df['Views'].str.replace(',', '', regex=True).astype(float)\n",
    "df['Uploads'] = df['Uploads'].str.replace(',', '', regex=True).astype(float)"
   ]
  },
  {
   "cell_type": "code",
   "execution_count": 164,
   "id": "f591b2a2-cfab-4df6-ad4f-a1aeb0e36bab",
   "metadata": {},
   "outputs": [],
   "source": [
    "df['Subscribers'] = df['Subscribers'].fillna(0).astype(int)\n",
    "df['Uploads'] = df['Uploads'].fillna(0).astype(int)\n",
    "df['Views'] = df['Views'].fillna(0).astype(int)"
   ]
  },
  {
   "cell_type": "code",
   "execution_count": 168,
   "id": "168b154b-a0e8-4bea-b9b2-b24ccfc4b109",
   "metadata": {},
   "outputs": [],
   "source": [
    "#Here we have extracted only 3 and 4 columns as we will use a 2D plot to see the clusters.\n",
    "x = df.iloc[:, [3, 4]].values  "
   ]
  },
  {
   "cell_type": "code",
   "execution_count": 172,
   "id": "24806764-77a9-479f-9e63-9f0cb59acc49",
   "metadata": {},
   "outputs": [
    {
     "data": {
      "image/png": "[encoded data removed]",
      "text/plain": [
       "<Figure size 640x480 with 1 Axes>"
      ]
     },
     "metadata": {},
     "output_type": "display_data"
    }
   ],
   "source": [
    "#Finding the optimal number of clusters using the dendrogram  \n",
    "import scipy.cluster.hierarchy as shc  \n",
    "dendro = shc.dendrogram(shc.linkage(x, method=\"ward\"))  \n",
    "plt.title(\"Dendrogrma Plot\")  \n",
    "plt.ylabel(\"Euclidean Distances\")  \n",
    "plt.xlabel(\"Subscribers\")  \n",
    "plt.show()  "
   ]
  },
  {
   "cell_type": "code",
   "execution_count": 176,
   "id": "34c04799-94f3-4581-ac7a-236f7359232a",
   "metadata": {},
   "outputs": [],
   "source": [
    "#training the hierarchical model on dataset  \n",
    "from sklearn.cluster import AgglomerativeClustering  \n",
    "hc= AgglomerativeClustering(n_clusters=5, linkage='ward')  \n",
    "y_pred= hc.fit_predict(x)  "
   ]
  },
  {
   "cell_type": "code",
   "execution_count": 178,
   "id": "226e2dec-731f-4cb4-9fc0-659a37a199da",
   "metadata": {},
   "outputs": [
    {
     "data": {
      "text/plain": [
       "array([4, 0, 0, 2, 0, 3, 3, 3, 2, 4, 1, 3, 2, 1, 3, 1, 4, 2, 3, 1, 1, 1,\n",
       "       4, 1, 2, 1, 4, 1, 2, 1, 1, 1, 1, 1, 1, 3, 1, 4, 1, 1, 1, 4, 4, 1,\n",
       "       1, 4, 2, 2, 1, 2, 4, 1, 2, 2, 2, 1, 1, 2, 1, 1, 2, 2, 1, 2, 1, 1,\n",
       "       2, 2, 2, 4, 1, 4, 1, 1, 1, 1, 1, 1, 2, 2, 2, 2, 1, 2, 1, 1, 1, 2,\n",
       "       1, 1, 2, 1, 2, 2, 2, 1, 2, 1, 1, 2, 2])"
      ]
     },
     "execution_count": 178,
     "metadata": {},
     "output_type": "execute_result"
    }
   ],
   "source": [
    "y_pred"
   ]
  },
  {
   "cell_type": "code",
   "execution_count": 182,
   "id": "d9708a19-ef1d-4a01-b7b3-3b3acf918a39",
   "metadata": {},
   "outputs": [
    {
     "data": {
      "image/png": "[encoded data removed]",
      "text/plain": [
       "<Figure size 640x480 with 1 Axes>"
      ]
     },
     "metadata": {},
     "output_type": "display_data"
    }
   ],
   "source": [
    "#visulaizing the clusters  \n",
    "plt.scatter(x[y_pred == 0, 0], x[y_pred == 0, 1], s = 100, c = 'blue', label = 'Cluster 1')  \n",
    "plt.scatter(x[y_pred == 1, 0], x[y_pred == 1, 1], s = 100, c = 'green', label = 'Cluster 2')  \n",
    "plt.scatter(x[y_pred== 2, 0], x[y_pred == 2, 1], s = 100, c = 'red', label = 'Cluster 3')  \n",
    "plt.scatter(x[y_pred == 3, 0], x[y_pred == 3, 1], s = 100, c = 'cyan', label = 'Cluster 4')  \n",
    "plt.scatter(x[y_pred == 4, 0], x[y_pred == 4, 1], s = 100, c = 'magenta', label = 'Cluster 5')  \n",
    "plt.title('Clusters of customers')  \n",
    "plt.xlabel('Uploads')  \n",
    "plt.ylabel('Views')  \n",
    "plt.legend()  \n",
    "plt.show()  "
   ]
  },
  {
   "cell_type": "code",
   "execution_count": null,
   "id": "9ffbee2f-fc4f-4b13-87d9-e02af120764b",
   "metadata": {},
   "outputs": [],
   "source": []
  }
 ],
 "metadata": {
  "kernelspec": {
   "display_name": "Python 3 (ipykernel)",
   "language": "python",
   "name": "python3"
  },
  "language_info": {
   "codemirror_mode": {
    "name": "ipython",
    "version": 3
   },
   "file_extension": ".py",
   "mimetype": "text/x-python",
   "name": "python",
   "nbconvert_exporter": "python",
   "pygments_lexer": "ipython3",
   "version": "3.12.4"
  }
 },
 "nbformat": 4,
 "nbformat_minor": 5
}
